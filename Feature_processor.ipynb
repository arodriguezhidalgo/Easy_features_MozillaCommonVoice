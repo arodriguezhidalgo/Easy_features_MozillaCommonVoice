{
 "cells": [
  {
   "cell_type": "markdown",
   "metadata": {},
   "source": [
    "# Extracting features from Mozilla Common-Voice dataset\n",
    "Author: Antonio Rodríguez-Hidalgo (https://morgothdps.github.io/CV/)\n"
   ]
  },
  {
   "cell_type": "markdown",
   "metadata": {},
   "source": [
    "\n",
    "In this notebook we show some code intended to extract features from the Mozilla Common-Voice dataset (https://voice.mozilla.org/en). We intend to make this code as readable as posible, so any beginner can use it as a starting point to develop his/her own models.\n",
    "\n",
    "It should be appointed that the code is particularly designed to fit Deep-Learning models, in particular using LSTMs. However, the process of fitting such model won't be shown since it is out of the scope of this notebook.\n",
    "\n",
    "Moreover, our proposal can be easily adapted to other datasets such as Google's AudioSet (https://research.google.com/audioset/).\n",
    "\n",
    "Things that were not considered in this first approach:\n",
    "* Data augmentation.\n",
    "* Modelling the labels as n-grams.\n",
    "* Alternative features to the log-Mel energy bands. However, these are easily computable using librosa. "
   ]
  },
  {
   "cell_type": "markdown",
   "metadata": {},
   "source": [
    "# Imports"
   ]
  },
  {
   "cell_type": "code",
   "execution_count": 1,
   "metadata": {},
   "outputs": [],
   "source": [
    "path = '.'\n",
    "feature_path = 'features';\n",
    "from numpy import array\n",
    "from librosa.feature import  melspectrogram\n",
    "from librosa.display import specshow\n",
    "import matplotlib.pyplot as plt\n",
    "import h5py, time, csv\n",
    "import numpy as np\n",
    "import os, random,datetime, librosa\n",
    "import tarfile,os, sys, io\n",
    "from pydub import AudioSegment\n"
   ]
  },
  {
   "cell_type": "markdown",
   "metadata": {},
   "source": [
    "# Parameter setup\n",
    "Modify the following cell in order to set up the parameters to compute and store the log-Mel energy bands of the available audio files."
   ]
  },
  {
   "cell_type": "code",
   "execution_count": 2,
   "metadata": {},
   "outputs": [],
   "source": [
    "dataset_targz = 'es.tar.gz';\n",
    "files_to_download = 100; # Number of files that you want to download\n",
    "win = 20; # Window size for the spectrogram (20ms)\n",
    "n_mel = 64;\n",
    "win_length = win*1e-3; \n",
    "hop_length = win_length*.5; # Hop-size for the spectrogram (50% overlapping).\n",
    "\n",
    "'''\n",
    "The following line should be set to 'True' to compute the spectrogram using the parameters\n",
    "above. Notice that the bigger is 'files_to_download' the longer it takes to extract the\n",
    "features. These spectrograms and their labels are stored in the 'feature' using a hdf5 file\n",
    "for audios and a .csv file for labels.\n",
    "'''\n",
    "write_features = False;\n",
    "fs = 48000; # Changing this parameter will NOT resample the signal. It simply states the sampling rate of the dataset.\n",
    "\n",
    "\n",
    "''' \n",
    "PATHS THAT SHOULDN'T BE EDITED\n",
    "'''\n",
    "datapath = os.path.join('data')\n",
    "h5_path = os.path.join(feature_path,'Audio_features_win{}.h5'.format(win));"
   ]
  },
  {
   "cell_type": "markdown",
   "metadata": {},
   "source": [
    "# Compute features"
   ]
  },
  {
   "cell_type": "markdown",
   "metadata": {},
   "source": [
    "Code used to scale the spectrograms. The proposed procedure scales each temporal frame of the spectrogram using average (avg) and standard deviation (std) computed using moving avg/std for each frequency band.\n",
    "\n",
    "This mechanism is proposed under the assumption that, when using a real-life model, its input audio should be scaled considering the avg/std that are stored concurrently in two vectors with information from each one of the frequency bands. This would allow to scale data using the most up-to-date values of avg/std, which might change with time."
   ]
  },
  {
   "cell_type": "code",
   "execution_count": 3,
   "metadata": {},
   "outputs": [],
   "source": [
    "from libraries.welford import Welford\n",
    "def ScaleData(S_matrix, verbose = False):\n",
    "    '''\n",
    "    Function designed to scale a spectrogram-like signal considering each frequency bin\n",
    "    independently. The scaling is the z-score, and mean and average are computed using\n",
    "    the Welford's algorithm.\n",
    "    \n",
    "    The code from Welford's is the one designed by: \n",
    "    https://gist.github.com/alexalemi/2151722\n",
    "    '''\n",
    "    ave = np.zeros(S_matrix.shape)\n",
    "    stdev =np.zeros(S_matrix.shape)\n",
    "    for f in range(S_matrix.shape[0]):\n",
    "        '''\n",
    "        We compute the moving average and std for each frequency bin. The idea is that this\n",
    "        procedure should be performed with signals in real scenarios for normalization \n",
    "        purposes, and consequently we performe those independently for each of the files,\n",
    "        both from train and test.\n",
    "        '''\n",
    "        runner = Welford();\n",
    "        for t in range(S_matrix.shape[1]):\n",
    "            runner(S_matrix[f,t])\n",
    "            ave[f,t] = runner.mean;\n",
    "            stdev[f,t] = runner.std;\n",
    "            if t == 0:\n",
    "                ave[f,t] = runner.mean;\n",
    "                stdev[f,t] = 1;\n",
    "        del runner\n",
    "\n",
    "    if verbose == True:\n",
    "        plt.figure(figsize=(15,10))\n",
    "        plt.subplot(221)\n",
    "        plt.imshow(S_matrix)\n",
    "        plt.colorbar()\n",
    "        plt.title('Original')\n",
    "        plt.subplot(222)\n",
    "        plt.imshow((S_matrix-ave)/stdev)\n",
    "        plt.colorbar()\n",
    "        plt.title('Scaled')\n",
    "        plt.subplot(223)\n",
    "        plt.imshow(ave)\n",
    "        plt.colorbar()\n",
    "        plt.title('Moving average (f)')\n",
    "        plt.subplot(224)\n",
    "        plt.imshow(stdev)\n",
    "        plt.colorbar()\n",
    "        plt.title('Moving std (f)')\n",
    "    return (S_matrix-ave+1e-30)/(stdev+1e-30);\n",
    "\n"
   ]
  },
  {
   "cell_type": "markdown",
   "metadata": {},
   "source": [
    "Log-Mel energy bands are computed using the code below if the system was set to do so.\n",
    "\n",
    "We avoid uncompressing the .tar.gz file. In fact, it seems to be  quicker to read and compute features sequentially from such file instead of looking for a specific audio clip using the validated.tsv file. "
   ]
  },
  {
   "cell_type": "code",
   "execution_count": 4,
   "metadata": {
    "scrolled": true
   },
   "outputs": [
    {
     "name": "stdout",
     "output_type": "stream",
     "text": [
      "mkdir: cannot create directory ‘features’: File exists\r\n"
     ]
    }
   ],
   "source": [
    "# Folder where features are stored\n",
    "%mkdir features\n",
    "\n",
    "\n",
    "counter = 0;\n",
    "\n",
    "start = time.time();\n",
    "ommited_list = []\n",
    "labels = {}\n",
    "if write_features == True:\n",
    "    tar = tarfile.open(os.path.join(datapath,dataset_targz),'r:gz')\n",
    "    hf = h5py.File(h5_path,'w');\n",
    "    \n",
    "    for member in tar:\n",
    "        filename = member.name;\n",
    "        '''\n",
    "        We will work only with audio files whose content has been validated. We get the\n",
    "        names of these files from the 'validated.tsv' file, which also includes their labels.\n",
    "        Labels are stored in the 'y_dict' dictionary.\n",
    "        '''\n",
    "        if filename == 'validated.tsv':\n",
    "            member = tar.getmember(filename)\n",
    "            f=tar.extractfile(member)\n",
    "            content_str = f.read().decode('utf-8').split('\\n')\n",
    "            y_dict = {};\n",
    "            for line in content_str[1:-1]:\n",
    "                y_dict[line.split('\\t')[1]] = line.split('\\t')[2];\n",
    "\n",
    "        '''\n",
    "        We look for audio files inside the .tar.gz document. They are stored using the \n",
    "        structure 'clips/filename.mp3'.\n",
    "        '''\n",
    "        if (len(filename.split('/')) ==2):\n",
    "            # We check if the audio file has been validated. If so, we process it.\n",
    "            if (filename.split('/')[1] in y_dict.keys()):\n",
    "                \n",
    "                member = tar.getmember(filename)\n",
    "                f=tar.extractfile(member)\n",
    "                content=f.read()\n",
    "                try:\n",
    "                    # We decode the files, since they are coded as a bit string into the\n",
    "                    # .tar.gz file.\n",
    "                    song = AudioSegment.from_file(io.BytesIO(content), format=\"mp3\")\n",
    "                except:\n",
    "                    print('Mistake with file: {}'.format(filename))\n",
    "                    continue\n",
    "\n",
    "                data = song.get_array_of_samples()\n",
    "                \n",
    "                '''\n",
    "                We check that the audio file has some content inside, which can be checked\n",
    "                using its standard deviation. If it is 0, it means that there is no speech.\n",
    "                '''\n",
    "                if np.std(data) != 0:                \n",
    "                    # We normalize speech data within [-1,1].\n",
    "                    data_aux = array(data)/np.max(np.abs(data));\n",
    "\n",
    "                    '''\n",
    "                    We apply some pre-emphasis to boost the magnitude of high frequency \n",
    "                    content. However, since we are processing speech this might be secondary,\n",
    "                    because the majority of information shall be concentrated within \n",
    "                    [0,4000] Hz.\n",
    "                    '''\n",
    "                    data_aux = librosa.effects.preemphasis(data_aux)\n",
    "                    \n",
    "                    # We compute the log-Mel energy bands, and scale them using the \n",
    "                    # procedure described before.\n",
    "                    S = melspectrogram(data_aux, sr = fs, \n",
    "                                       n_fft = int(2**np.ceil(np.log2(abs(win_length*fs)))), \n",
    "                                       n_mels = n_mel,\n",
    "                                       hop_length = int(hop_length*fs),\n",
    "                                       win_length = int(win_length*fs),\n",
    "                                       htk=True\n",
    "                                      )\n",
    "\n",
    "                    S = librosa.power_to_db(S);            \n",
    "                    S = ScaleData(S)\n",
    "                    \n",
    "                    # We store our spectro-temporal representation within a hdf5 file.\n",
    "                    hf.create_dataset(filename.split('/')[1]+'-spec', data=S);\n",
    "                    \n",
    "                    # We keep track of the file whose information has been computed, and\n",
    "                    # store its labels.\n",
    "                    labels[filename.split('/')[1]] = y_dict[filename.split('/')[1]];\n",
    "                    counter+=1;\n",
    "\n",
    "                    \n",
    "                    # Verbose data.\n",
    "                    if counter%100 == 0:\n",
    "                        end = time.time();\n",
    "                        print('Files processed: {0}. Elapsed T(s): {1}. T per file(s): {2}'.format(counter, (end-start), (end-start)/counter))\n",
    "                    if counter == files_to_download:\n",
    "                        hf.close()\n",
    "                        break\n",
    "                else:\n",
    "                    # If there is an empty audio file, we include it in a blacklist.\n",
    "                    print('Ommited: {}'.format(filename))\n",
    "                    ommited_list.append(filename.split('/')[1])\n",
    "\n",
    "    if counter != files_to_download:\n",
    "        hf.close()\n",
    "    # Finally, we store the labels in a .csv file, which can be easily read.\n",
    "    with open('features/labels.csv','w') as f:\n",
    "        w = csv.writer(f, quoting=csv.QUOTE_NONNUMERIC);\n",
    "        for key, val in labels.items():\n",
    "            w.writerow([key, val])\n",
    "            \n",
    "            \n",
    "    "
   ]
  },
  {
   "cell_type": "markdown",
   "metadata": {},
   "source": [
    "\n",
    "# Reading data and labels\n",
    "The code below shall be used to load both audios and their labels. Notice that they should have been computed/processed using the scheme proposed before."
   ]
  },
  {
   "cell_type": "code",
   "execution_count": 5,
   "metadata": {},
   "outputs": [],
   "source": [
    "# Labels\n",
    "labels = {}\n",
    "with open('features/labels.csv','r') as f:\n",
    "    w = csv.reader(f, quoting=csv.QUOTE_NONNUMERIC);\n",
    "    for line in w:\n",
    "        labels[line[0]] = line[1];\n",
    "\n",
    "# Data\n",
    "hf = h5py.File(h5_path, 'r')"
   ]
  },
  {
   "cell_type": "markdown",
   "metadata": {},
   "source": [
    "# Splitting data into train/validation/test\n",
    "The reason why we proposed to store features using hdf5 is that sometimes the whole dataset does not fit into GPU memory. Our approach allows to split into train, validation and test subsets using exclusively the filenames, as depicted below."
   ]
  },
  {
   "cell_type": "code",
   "execution_count": 6,
   "metadata": {},
   "outputs": [
    {
     "name": "stdout",
     "output_type": "stream",
     "text": [
      "Train files: 81.\n",
      "Test files: 10.\n",
      "Validation files: 9\n"
     ]
    }
   ],
   "source": [
    "from sklearn.model_selection import train_test_split\n",
    "X_train, X_test = train_test_split(list(labels.keys()), test_size = .1, shuffle = True)\n",
    "X_train, X_val  = train_test_split(X_train, test_size = .1, shuffle = True)\n",
    "print('Train files: {}.\\nTest files: {}.\\nValidation files: {}'.format(len(X_train), len(X_test), len(X_val)))"
   ]
  },
  {
   "cell_type": "markdown",
   "metadata": {},
   "source": [
    "As we mentioned, each 'X_' variable will store a list of audio files, which we will used by a generator to read both audio features and labels."
   ]
  },
  {
   "cell_type": "code",
   "execution_count": 7,
   "metadata": {
    "scrolled": true
   },
   "outputs": [
    {
     "data": {
      "text/plain": [
       "['common_voice_es_18306884.mp3',\n",
       " 'common_voice_es_18307255.mp3',\n",
       " 'common_voice_es_18306606.mp3',\n",
       " 'common_voice_es_18306579.mp3',\n",
       " 'common_voice_es_18307296.mp3',\n",
       " 'common_voice_es_18306594.mp3',\n",
       " 'common_voice_es_18306624.mp3',\n",
       " 'common_voice_es_18306634.mp3',\n",
       " 'common_voice_es_18306608.mp3']"
      ]
     },
     "execution_count": 7,
     "metadata": {},
     "output_type": "execute_result"
    }
   ],
   "source": [
    "X_val"
   ]
  },
  {
   "cell_type": "markdown",
   "metadata": {},
   "source": [
    "# Checking one of the audio files\n",
    "We might want to check out the content of one of our audio files."
   ]
  },
  {
   "cell_type": "code",
   "execution_count": 8,
   "metadata": {},
   "outputs": [
    {
     "data": {
      "image/png": "[encoded data removed]",
      "text/plain": [
       "<Figure size 720x360 with 1 Axes>"
      ]
     },
     "metadata": {
      "needs_background": "light"
     },
     "output_type": "display_data"
    }
   ],
   "source": [
    "file_example = X_train[5];\n",
    "\n",
    "# Both feature and label are obtained using the name of the file\n",
    "file_data = hf[file_example+'-spec'];\n",
    "file_label = labels[file_example];\n",
    "\n",
    "\n",
    "# Then, they can be plotted as shown below.\n",
    "plt.figure(figsize=(10,5))\n",
    "specshow(file_data, y_axis = 'mel', sr = fs, x_axis = 'time')\n",
    "plt.title('LABEL: \\'{}\\''.format(file_label));\n"
   ]
  },
  {
   "cell_type": "markdown",
   "metadata": {},
   "source": [
    "# Generator to read features and labels\n",
    "We can reuse the previous approach to create a generator, which might be useful to train a model using keras.\n"
   ]
  },
  {
   "cell_type": "code",
   "execution_count": 9,
   "metadata": {},
   "outputs": [],
   "source": [
    "def generate_arrays_autoencoder(h5_file, label_dict, x_list, batch_size):\n",
    "    '''\n",
    "    h5_file: hdf5 file where features are stored. It must be already open using 'r' mode.\n",
    "    x_list: list of files to be read from the hdf5 storage. We can use a list of names from\n",
    "    the train, validation or test subset, which makes this function highly reusable.\n",
    "    batch_size: defines how many audio files we want to include in our batches.\n",
    "    '''\n",
    "    while True:\n",
    "        # For every new epoch, the 'x_list' is resampled.\n",
    "        x_list_rand = random.sample(x_list,len(x_list));\n",
    "        \n",
    "        # This loop generates the batches. \n",
    "        for i in np.arange(0,len(x_list_rand),batch_size):\n",
    "            \n",
    "            '''\n",
    "            The original shape of our files is (n_mel, time). In order to create a batch,\n",
    "            need an additional dimension that identifies each one of the files. For that\n",
    "            chore we use np.expand_dims, which creates the new structure:\n",
    "              -> (n_mel, time, file_index).\n",
    "            '''\n",
    "            x_aux = [np.expand_dims(h5_file[x_list_rand[j]+'-spec'],axis=2) for j in np.arange(i, np.min([i+batch_size, len(x_list_rand)]))]\n",
    "            \n",
    "            \n",
    "            '''\n",
    "            We read the temporal length of each file. In fact, when processing audio it is\n",
    "            quite common that files have different temporal durations. Consequently, we\n",
    "            measure their lengths and add zero-padding so all of them have the same\n",
    "            temporal length.\n",
    "            '''\n",
    "            x_aux_shape = [i.shape[1] for i in x_aux];\n",
    "            \n",
    "            # Add padding when necessary\n",
    "            for ind in range(len(x_aux_shape)):\n",
    "                x_aux[ind] = np.pad(x_aux[ind],\n",
    "                                  ((0,0),\n",
    "                                   (np.max(x_aux_shape)-x_aux_shape[ind],0),\n",
    "                                   (0,0)),\n",
    "                                  'constant',constant_values = 0)\n",
    "\n",
    "                \n",
    "            # This line might be useful if for some reason the temporal duration is huge.\n",
    "            # It essentially cuts each signal to have a duration of 1 minute (maximum).\n",
    "                x_aux[ind] = x_aux[ind][0:int(1*60/win_length)]\n",
    "                \n",
    "            # Once that all the features are read and have the same duration, we concatenate them.\n",
    "            x_aux = np.concatenate(x_aux, axis=2)\n",
    "                \n",
    "            '''\n",
    "            We transpose the batch so it has a shape compatible with our keras \n",
    "            configuration. Since currently we are working on a LSTM model, we keep the \n",
    "            following structure: \n",
    "               -> (file_index, time, n_mel)\n",
    "            '''            \n",
    "            x = np.transpose(x_aux, [2,1,0])\n",
    "            \n",
    "            \n",
    "            '''\n",
    "            For an autoencoder, the output can be defined as follows, where (y ~ X)\n",
    "            considering that we scaled y within the range [-1,1].\n",
    "            '''\n",
    "            y = x/(np.max(np.abs(x))+1e-30); \n",
    "            \n",
    "            '''\n",
    "            Alternatively, if we want to train (for example) a seq-2-seq model, we can\n",
    "            use the labels available in the dataset.\n",
    "            '''\n",
    "            y = [label_dict[x_list_rand[j]] for j in np.arange(i, np.min([i+batch_size, len(x_list_rand)]))]\n",
    "\n",
    "            try:\n",
    "                yield (x,y)\n",
    "            except StopIteration:\n",
    "                return   "
   ]
  },
  {
   "cell_type": "markdown",
   "metadata": {},
   "source": [
    "The generator that we propose can be used in keras (fit_generator function) using the following line for the following configuration:\n",
    "* Training subset.\n",
    "* Batch size of two elements."
   ]
  },
  {
   "cell_type": "code",
   "execution_count": 13,
   "metadata": {},
   "outputs": [],
   "source": [
    "train_generator = generate_arrays_autoencoder(hf, labels, X_train, 2)"
   ]
  },
  {
   "cell_type": "markdown",
   "metadata": {},
   "source": [
    "# Training a model\n",
    "We leave this part for another job. However, we can use the whole code explained in the previous sections of this notebook."
   ]
  }
 ],
 "metadata": {
  "kernelspec": {
   "display_name": "Python 3",
   "language": "python",
   "name": "python3"
  },
  "language_info": {
   "codemirror_mode": {
    "name": "ipython",
    "version": 3
   },
   "file_extension": ".py",
   "mimetype": "text/x-python",
   "name": "python",
   "nbconvert_exporter": "python",
   "pygments_lexer": "ipython3",
   "version": "3.7.6"
  }
 },
 "nbformat": 4,
 "nbformat_minor": 2
}
